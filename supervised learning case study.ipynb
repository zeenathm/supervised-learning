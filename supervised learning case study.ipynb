{
 "cells": [
  {
   "cell_type": "code",
   "execution_count": 1,
   "id": "e3fed1ef",
   "metadata": {},
   "outputs": [],
   "source": [
    "import pandas as pd\n",
    "import numpy as np\n",
    "import matplotlib.pyplot as plt\n",
    "import seaborn as sns\n",
    "from sklearn import metrics\n",
    "sns.set()\n",
    "import warnings\n",
    "warnings.filterwarnings('ignore')"
   ]
  },
  {
   "cell_type": "markdown",
   "id": "a8180e4a",
   "metadata": {},
   "source": [
    "# 1. Reading the Dataset to the Python Environment."
   ]
  },
  {
   "cell_type": "code",
   "execution_count": 2,
   "id": "24f91a86",
   "metadata": {},
   "outputs": [
    {
     "data": {
      "text/html": [
       "<div>\n",
       "<style scoped>\n",
       "    .dataframe tbody tr th:only-of-type {\n",
       "        vertical-align: middle;\n",
       "    }\n",
       "\n",
       "    .dataframe tbody tr th {\n",
       "        vertical-align: top;\n",
       "    }\n",
       "\n",
       "    .dataframe thead th {\n",
       "        text-align: right;\n",
       "    }\n",
       "</style>\n",
       "<table border=\"1\" class=\"dataframe\">\n",
       "  <thead>\n",
       "    <tr style=\"text-align: right;\">\n",
       "      <th></th>\n",
       "      <th>SL</th>\n",
       "      <th>SW</th>\n",
       "      <th>PL</th>\n",
       "      <th>PW</th>\n",
       "      <th>Classification</th>\n",
       "    </tr>\n",
       "  </thead>\n",
       "  <tbody>\n",
       "    <tr>\n",
       "      <th>0</th>\n",
       "      <td>5.1</td>\n",
       "      <td>3.5</td>\n",
       "      <td>1.4</td>\n",
       "      <td>0.2</td>\n",
       "      <td>Iris-setosa</td>\n",
       "    </tr>\n",
       "    <tr>\n",
       "      <th>1</th>\n",
       "      <td>4.9</td>\n",
       "      <td>3.0</td>\n",
       "      <td>1.4</td>\n",
       "      <td>0.2</td>\n",
       "      <td>Iris-setosa</td>\n",
       "    </tr>\n",
       "    <tr>\n",
       "      <th>2</th>\n",
       "      <td>NaN</td>\n",
       "      <td>3.2</td>\n",
       "      <td>1.3</td>\n",
       "      <td>0.2</td>\n",
       "      <td>Iris-setosa</td>\n",
       "    </tr>\n",
       "    <tr>\n",
       "      <th>3</th>\n",
       "      <td>4.6</td>\n",
       "      <td>3.1</td>\n",
       "      <td>1.5</td>\n",
       "      <td>0.2</td>\n",
       "      <td>Iris-setosa</td>\n",
       "    </tr>\n",
       "    <tr>\n",
       "      <th>4</th>\n",
       "      <td>5.0</td>\n",
       "      <td>3.6</td>\n",
       "      <td>1.4</td>\n",
       "      <td>0.2</td>\n",
       "      <td>Iris-setosa</td>\n",
       "    </tr>\n",
       "    <tr>\n",
       "      <th>...</th>\n",
       "      <td>...</td>\n",
       "      <td>...</td>\n",
       "      <td>...</td>\n",
       "      <td>...</td>\n",
       "      <td>...</td>\n",
       "    </tr>\n",
       "    <tr>\n",
       "      <th>145</th>\n",
       "      <td>6.7</td>\n",
       "      <td>3.0</td>\n",
       "      <td>5.2</td>\n",
       "      <td>2.3</td>\n",
       "      <td>Iris-virginica</td>\n",
       "    </tr>\n",
       "    <tr>\n",
       "      <th>146</th>\n",
       "      <td>6.3</td>\n",
       "      <td>2.5</td>\n",
       "      <td>5.0</td>\n",
       "      <td>1.9</td>\n",
       "      <td>Iris-virginica</td>\n",
       "    </tr>\n",
       "    <tr>\n",
       "      <th>147</th>\n",
       "      <td>6.5</td>\n",
       "      <td>3.0</td>\n",
       "      <td>NaN</td>\n",
       "      <td>2.0</td>\n",
       "      <td>Iris-virginica</td>\n",
       "    </tr>\n",
       "    <tr>\n",
       "      <th>148</th>\n",
       "      <td>6.2</td>\n",
       "      <td>3.4</td>\n",
       "      <td>5.4</td>\n",
       "      <td>2.3</td>\n",
       "      <td>Iris-virginica</td>\n",
       "    </tr>\n",
       "    <tr>\n",
       "      <th>149</th>\n",
       "      <td>5.9</td>\n",
       "      <td>3.0</td>\n",
       "      <td>5.1</td>\n",
       "      <td>1.8</td>\n",
       "      <td>Iris-virginica</td>\n",
       "    </tr>\n",
       "  </tbody>\n",
       "</table>\n",
       "<p>150 rows × 5 columns</p>\n",
       "</div>"
      ],
      "text/plain": [
       "      SL   SW   PL   PW  Classification\n",
       "0    5.1  3.5  1.4  0.2     Iris-setosa\n",
       "1    4.9  3.0  1.4  0.2     Iris-setosa\n",
       "2    NaN  3.2  1.3  0.2     Iris-setosa\n",
       "3    4.6  3.1  1.5  0.2     Iris-setosa\n",
       "4    5.0  3.6  1.4  0.2     Iris-setosa\n",
       "..   ...  ...  ...  ...             ...\n",
       "145  6.7  3.0  5.2  2.3  Iris-virginica\n",
       "146  6.3  2.5  5.0  1.9  Iris-virginica\n",
       "147  6.5  3.0  NaN  2.0  Iris-virginica\n",
       "148  6.2  3.4  5.4  2.3  Iris-virginica\n",
       "149  5.9  3.0  5.1  1.8  Iris-virginica\n",
       "\n",
       "[150 rows x 5 columns]"
      ]
     },
     "execution_count": 2,
     "metadata": {},
     "output_type": "execute_result"
    }
   ],
   "source": [
    "data_iris = pd.read_excel(\"iris (1).xls\")\n",
    "data_iris"
   ]
  },
  {
   "cell_type": "markdown",
   "id": "af615ac7",
   "metadata": {},
   "source": [
    "# Here some details about the dataset"
   ]
  },
  {
   "cell_type": "code",
   "execution_count": 3,
   "id": "8e46dfa6",
   "metadata": {},
   "outputs": [
    {
     "data": {
      "text/html": [
       "<div>\n",
       "<style scoped>\n",
       "    .dataframe tbody tr th:only-of-type {\n",
       "        vertical-align: middle;\n",
       "    }\n",
       "\n",
       "    .dataframe tbody tr th {\n",
       "        vertical-align: top;\n",
       "    }\n",
       "\n",
       "    .dataframe thead th {\n",
       "        text-align: right;\n",
       "    }\n",
       "</style>\n",
       "<table border=\"1\" class=\"dataframe\">\n",
       "  <thead>\n",
       "    <tr style=\"text-align: right;\">\n",
       "      <th></th>\n",
       "      <th>SL</th>\n",
       "      <th>SW</th>\n",
       "      <th>PL</th>\n",
       "      <th>PW</th>\n",
       "      <th>Classification</th>\n",
       "    </tr>\n",
       "  </thead>\n",
       "  <tbody>\n",
       "    <tr>\n",
       "      <th>0</th>\n",
       "      <td>5.1</td>\n",
       "      <td>3.5</td>\n",
       "      <td>1.4</td>\n",
       "      <td>0.2</td>\n",
       "      <td>Iris-setosa</td>\n",
       "    </tr>\n",
       "    <tr>\n",
       "      <th>1</th>\n",
       "      <td>4.9</td>\n",
       "      <td>3.0</td>\n",
       "      <td>1.4</td>\n",
       "      <td>0.2</td>\n",
       "      <td>Iris-setosa</td>\n",
       "    </tr>\n",
       "    <tr>\n",
       "      <th>2</th>\n",
       "      <td>NaN</td>\n",
       "      <td>3.2</td>\n",
       "      <td>1.3</td>\n",
       "      <td>0.2</td>\n",
       "      <td>Iris-setosa</td>\n",
       "    </tr>\n",
       "    <tr>\n",
       "      <th>3</th>\n",
       "      <td>4.6</td>\n",
       "      <td>3.1</td>\n",
       "      <td>1.5</td>\n",
       "      <td>0.2</td>\n",
       "      <td>Iris-setosa</td>\n",
       "    </tr>\n",
       "    <tr>\n",
       "      <th>4</th>\n",
       "      <td>5.0</td>\n",
       "      <td>3.6</td>\n",
       "      <td>1.4</td>\n",
       "      <td>0.2</td>\n",
       "      <td>Iris-setosa</td>\n",
       "    </tr>\n",
       "  </tbody>\n",
       "</table>\n",
       "</div>"
      ],
      "text/plain": [
       "    SL   SW   PL   PW Classification\n",
       "0  5.1  3.5  1.4  0.2    Iris-setosa\n",
       "1  4.9  3.0  1.4  0.2    Iris-setosa\n",
       "2  NaN  3.2  1.3  0.2    Iris-setosa\n",
       "3  4.6  3.1  1.5  0.2    Iris-setosa\n",
       "4  5.0  3.6  1.4  0.2    Iris-setosa"
      ]
     },
     "execution_count": 3,
     "metadata": {},
     "output_type": "execute_result"
    }
   ],
   "source": [
    "data_iris.head()"
   ]
  },
  {
   "cell_type": "code",
   "execution_count": 4,
   "id": "3498373c",
   "metadata": {},
   "outputs": [
    {
     "data": {
      "text/plain": [
       "Index(['SL', 'SW', 'PL', 'PW', 'Classification'], dtype='object')"
      ]
     },
     "execution_count": 4,
     "metadata": {},
     "output_type": "execute_result"
    }
   ],
   "source": [
    "data_iris.columns"
   ]
  },
  {
   "cell_type": "code",
   "execution_count": 5,
   "id": "cf0b9a53",
   "metadata": {},
   "outputs": [
    {
     "data": {
      "text/plain": [
       "SL    5.855944\n",
       "SW    3.049306\n",
       "PL    3.756250\n",
       "PW    1.198667\n",
       "dtype: float64"
      ]
     },
     "execution_count": 5,
     "metadata": {},
     "output_type": "execute_result"
    }
   ],
   "source": [
    "np.mean(data_iris,axis=0)"
   ]
  },
  {
   "cell_type": "code",
   "execution_count": 6,
   "id": "e8b99d9a",
   "metadata": {},
   "outputs": [
    {
     "data": {
      "text/plain": [
       "SL                        4.3\n",
       "SW                        2.0\n",
       "PL                        1.0\n",
       "PW                        0.1\n",
       "Classification    Iris-setosa\n",
       "dtype: object"
      ]
     },
     "execution_count": 6,
     "metadata": {},
     "output_type": "execute_result"
    }
   ],
   "source": [
    "np.min(data_iris,axis=0)"
   ]
  },
  {
   "cell_type": "code",
   "execution_count": 7,
   "id": "6c0b005d",
   "metadata": {},
   "outputs": [
    {
     "data": {
      "text/plain": [
       "SL                           7.9\n",
       "SW                           4.4\n",
       "PL                           6.9\n",
       "PW                           2.5\n",
       "Classification    Iris-virginica\n",
       "dtype: object"
      ]
     },
     "execution_count": 7,
     "metadata": {},
     "output_type": "execute_result"
    }
   ],
   "source": [
    "np.max(data_iris,axis=0)"
   ]
  },
  {
   "cell_type": "code",
   "execution_count": 8,
   "id": "bc1f35df",
   "metadata": {},
   "outputs": [
    {
     "data": {
      "text/plain": [
       "(150, 5)"
      ]
     },
     "execution_count": 8,
     "metadata": {},
     "output_type": "execute_result"
    }
   ],
   "source": [
    "data_iris.shape"
   ]
  },
  {
   "cell_type": "code",
   "execution_count": 9,
   "id": "ae654cf3",
   "metadata": {},
   "outputs": [
    {
     "data": {
      "text/html": [
       "<div>\n",
       "<style scoped>\n",
       "    .dataframe tbody tr th:only-of-type {\n",
       "        vertical-align: middle;\n",
       "    }\n",
       "\n",
       "    .dataframe tbody tr th {\n",
       "        vertical-align: top;\n",
       "    }\n",
       "\n",
       "    .dataframe thead tr th {\n",
       "        text-align: left;\n",
       "    }\n",
       "\n",
       "    .dataframe thead tr:last-of-type th {\n",
       "        text-align: right;\n",
       "    }\n",
       "</style>\n",
       "<table border=\"1\" class=\"dataframe\">\n",
       "  <thead>\n",
       "    <tr>\n",
       "      <th></th>\n",
       "      <th colspan=\"8\" halign=\"left\">SL</th>\n",
       "      <th colspan=\"8\" halign=\"left\">SW</th>\n",
       "      <th colspan=\"8\" halign=\"left\">PL</th>\n",
       "      <th colspan=\"8\" halign=\"left\">PW</th>\n",
       "    </tr>\n",
       "    <tr>\n",
       "      <th></th>\n",
       "      <th>count</th>\n",
       "      <th>mean</th>\n",
       "      <th>std</th>\n",
       "      <th>min</th>\n",
       "      <th>25%</th>\n",
       "      <th>50%</th>\n",
       "      <th>75%</th>\n",
       "      <th>max</th>\n",
       "      <th>count</th>\n",
       "      <th>mean</th>\n",
       "      <th>std</th>\n",
       "      <th>min</th>\n",
       "      <th>25%</th>\n",
       "      <th>50%</th>\n",
       "      <th>75%</th>\n",
       "      <th>max</th>\n",
       "      <th>count</th>\n",
       "      <th>mean</th>\n",
       "      <th>std</th>\n",
       "      <th>min</th>\n",
       "      <th>25%</th>\n",
       "      <th>50%</th>\n",
       "      <th>75%</th>\n",
       "      <th>max</th>\n",
       "      <th>count</th>\n",
       "      <th>mean</th>\n",
       "      <th>std</th>\n",
       "      <th>min</th>\n",
       "      <th>25%</th>\n",
       "      <th>50%</th>\n",
       "      <th>75%</th>\n",
       "      <th>max</th>\n",
       "    </tr>\n",
       "    <tr>\n",
       "      <th>Classification</th>\n",
       "      <th></th>\n",
       "      <th></th>\n",
       "      <th></th>\n",
       "      <th></th>\n",
       "      <th></th>\n",
       "      <th></th>\n",
       "      <th></th>\n",
       "      <th></th>\n",
       "      <th></th>\n",
       "      <th></th>\n",
       "      <th></th>\n",
       "      <th></th>\n",
       "      <th></th>\n",
       "      <th></th>\n",
       "      <th></th>\n",
       "      <th></th>\n",
       "      <th></th>\n",
       "      <th></th>\n",
       "      <th></th>\n",
       "      <th></th>\n",
       "      <th></th>\n",
       "      <th></th>\n",
       "      <th></th>\n",
       "      <th></th>\n",
       "      <th></th>\n",
       "      <th></th>\n",
       "      <th></th>\n",
       "      <th></th>\n",
       "      <th></th>\n",
       "      <th></th>\n",
       "      <th></th>\n",
       "      <th></th>\n",
       "    </tr>\n",
       "  </thead>\n",
       "  <tbody>\n",
       "    <tr>\n",
       "      <th>Iris-setosa</th>\n",
       "      <td>47.0</td>\n",
       "      <td>5.008511</td>\n",
       "      <td>0.360452</td>\n",
       "      <td>4.3</td>\n",
       "      <td>4.800</td>\n",
       "      <td>5.00</td>\n",
       "      <td>5.20</td>\n",
       "      <td>5.8</td>\n",
       "      <td>47.0</td>\n",
       "      <td>3.408511</td>\n",
       "      <td>0.390557</td>\n",
       "      <td>2.3</td>\n",
       "      <td>3.1</td>\n",
       "      <td>3.4</td>\n",
       "      <td>3.65</td>\n",
       "      <td>4.4</td>\n",
       "      <td>48.0</td>\n",
       "      <td>1.468750</td>\n",
       "      <td>0.175228</td>\n",
       "      <td>1.0</td>\n",
       "      <td>1.4</td>\n",
       "      <td>1.50</td>\n",
       "      <td>1.600</td>\n",
       "      <td>1.9</td>\n",
       "      <td>50.0</td>\n",
       "      <td>0.244</td>\n",
       "      <td>0.107210</td>\n",
       "      <td>0.1</td>\n",
       "      <td>0.2</td>\n",
       "      <td>0.2</td>\n",
       "      <td>0.3</td>\n",
       "      <td>0.6</td>\n",
       "    </tr>\n",
       "    <tr>\n",
       "      <th>Iris-versicolor</th>\n",
       "      <td>48.0</td>\n",
       "      <td>5.925000</td>\n",
       "      <td>0.522474</td>\n",
       "      <td>4.9</td>\n",
       "      <td>5.600</td>\n",
       "      <td>5.85</td>\n",
       "      <td>6.30</td>\n",
       "      <td>7.0</td>\n",
       "      <td>48.0</td>\n",
       "      <td>2.781250</td>\n",
       "      <td>0.315322</td>\n",
       "      <td>2.0</td>\n",
       "      <td>2.6</td>\n",
       "      <td>2.8</td>\n",
       "      <td>3.00</td>\n",
       "      <td>3.4</td>\n",
       "      <td>48.0</td>\n",
       "      <td>4.252083</td>\n",
       "      <td>0.475345</td>\n",
       "      <td>3.0</td>\n",
       "      <td>4.0</td>\n",
       "      <td>4.35</td>\n",
       "      <td>4.600</td>\n",
       "      <td>5.1</td>\n",
       "      <td>50.0</td>\n",
       "      <td>1.326</td>\n",
       "      <td>0.197753</td>\n",
       "      <td>1.0</td>\n",
       "      <td>1.2</td>\n",
       "      <td>1.3</td>\n",
       "      <td>1.5</td>\n",
       "      <td>1.8</td>\n",
       "    </tr>\n",
       "    <tr>\n",
       "      <th>Iris-virginica</th>\n",
       "      <td>48.0</td>\n",
       "      <td>6.616667</td>\n",
       "      <td>0.598343</td>\n",
       "      <td>5.6</td>\n",
       "      <td>6.275</td>\n",
       "      <td>6.50</td>\n",
       "      <td>6.95</td>\n",
       "      <td>7.9</td>\n",
       "      <td>49.0</td>\n",
       "      <td>2.967347</td>\n",
       "      <td>0.322353</td>\n",
       "      <td>2.2</td>\n",
       "      <td>2.8</td>\n",
       "      <td>3.0</td>\n",
       "      <td>3.10</td>\n",
       "      <td>3.8</td>\n",
       "      <td>48.0</td>\n",
       "      <td>5.547917</td>\n",
       "      <td>0.555433</td>\n",
       "      <td>4.5</td>\n",
       "      <td>5.1</td>\n",
       "      <td>5.55</td>\n",
       "      <td>5.825</td>\n",
       "      <td>6.9</td>\n",
       "      <td>50.0</td>\n",
       "      <td>2.026</td>\n",
       "      <td>0.274650</td>\n",
       "      <td>1.4</td>\n",
       "      <td>1.8</td>\n",
       "      <td>2.0</td>\n",
       "      <td>2.3</td>\n",
       "      <td>2.5</td>\n",
       "    </tr>\n",
       "  </tbody>\n",
       "</table>\n",
       "</div>"
      ],
      "text/plain": [
       "                   SL                                                     SW  \\\n",
       "                count      mean       std  min    25%   50%   75%  max count   \n",
       "Classification                                                                 \n",
       "Iris-setosa      47.0  5.008511  0.360452  4.3  4.800  5.00  5.20  5.8  47.0   \n",
       "Iris-versicolor  48.0  5.925000  0.522474  4.9  5.600  5.85  6.30  7.0  48.0   \n",
       "Iris-virginica   48.0  6.616667  0.598343  5.6  6.275  6.50  6.95  7.9  49.0   \n",
       "\n",
       "                                                                 PL            \\\n",
       "                     mean       std  min  25%  50%   75%  max count      mean   \n",
       "Classification                                                                  \n",
       "Iris-setosa      3.408511  0.390557  2.3  3.1  3.4  3.65  4.4  48.0  1.468750   \n",
       "Iris-versicolor  2.781250  0.315322  2.0  2.6  2.8  3.00  3.4  48.0  4.252083   \n",
       "Iris-virginica   2.967347  0.322353  2.2  2.8  3.0  3.10  3.8  48.0  5.547917   \n",
       "\n",
       "                                                         PW                   \\\n",
       "                      std  min  25%   50%    75%  max count   mean       std   \n",
       "Classification                                                                 \n",
       "Iris-setosa      0.175228  1.0  1.4  1.50  1.600  1.9  50.0  0.244  0.107210   \n",
       "Iris-versicolor  0.475345  3.0  4.0  4.35  4.600  5.1  50.0  1.326  0.197753   \n",
       "Iris-virginica   0.555433  4.5  5.1  5.55  5.825  6.9  50.0  2.026  0.274650   \n",
       "\n",
       "                                          \n",
       "                 min  25%  50%  75%  max  \n",
       "Classification                            \n",
       "Iris-setosa      0.1  0.2  0.2  0.3  0.6  \n",
       "Iris-versicolor  1.0  1.2  1.3  1.5  1.8  \n",
       "Iris-virginica   1.4  1.8  2.0  2.3  2.5  "
      ]
     },
     "execution_count": 9,
     "metadata": {},
     "output_type": "execute_result"
    }
   ],
   "source": [
    "pd.set_option('display.max_columns', None)\n",
    "data_iris.groupby('Classification').describe()"
   ]
  },
  {
   "cell_type": "code",
   "execution_count": 10,
   "id": "96777d87",
   "metadata": {},
   "outputs": [
    {
     "data": {
      "text/plain": [
       "SL                7\n",
       "SW                6\n",
       "PL                6\n",
       "PW                0\n",
       "Classification    0\n",
       "dtype: int64"
      ]
     },
     "execution_count": 10,
     "metadata": {},
     "output_type": "execute_result"
    }
   ],
   "source": [
    "data_iris.isna().sum()"
   ]
  },
  {
   "cell_type": "markdown",
   "id": "0ae80f2c",
   "metadata": {},
   "source": [
    "we can see some missing values"
   ]
  },
  {
   "cell_type": "code",
   "execution_count": 11,
   "id": "91cb1ec4",
   "metadata": {},
   "outputs": [
    {
     "name": "stdout",
     "output_type": "stream",
     "text": [
      "<class 'pandas.core.frame.DataFrame'>\n",
      "RangeIndex: 150 entries, 0 to 149\n",
      "Data columns (total 5 columns):\n",
      " #   Column          Non-Null Count  Dtype  \n",
      "---  ------          --------------  -----  \n",
      " 0   SL              143 non-null    float64\n",
      " 1   SW              144 non-null    float64\n",
      " 2   PL              144 non-null    float64\n",
      " 3   PW              150 non-null    float64\n",
      " 4   Classification  150 non-null    object \n",
      "dtypes: float64(4), object(1)\n",
      "memory usage: 6.0+ KB\n"
     ]
    }
   ],
   "source": [
    "data_iris.info()"
   ]
  },
  {
   "cell_type": "markdown",
   "id": "11f580e6",
   "metadata": {},
   "source": [
    "The values of 4 columns i.e. the SL,SW,PL,PW has numerical values while Classification has a categorical string value"
   ]
  },
  {
   "cell_type": "code",
   "execution_count": 12,
   "id": "b5726bea",
   "metadata": {},
   "outputs": [
    {
     "data": {
      "text/plain": [
       "Iris-virginica     50\n",
       "Iris-setosa        50\n",
       "Iris-versicolor    50\n",
       "Name: Classification, dtype: int64"
      ]
     },
     "execution_count": 12,
     "metadata": {},
     "output_type": "execute_result"
    }
   ],
   "source": [
    "data_iris['Classification'].value_counts()"
   ]
  },
  {
   "cell_type": "code",
   "execution_count": 13,
   "id": "87ec413a",
   "metadata": {},
   "outputs": [
    {
     "data": {
      "text/html": [
       "<div>\n",
       "<style scoped>\n",
       "    .dataframe tbody tr th:only-of-type {\n",
       "        vertical-align: middle;\n",
       "    }\n",
       "\n",
       "    .dataframe tbody tr th {\n",
       "        vertical-align: top;\n",
       "    }\n",
       "\n",
       "    .dataframe thead th {\n",
       "        text-align: right;\n",
       "    }\n",
       "</style>\n",
       "<table border=\"1\" class=\"dataframe\">\n",
       "  <thead>\n",
       "    <tr style=\"text-align: right;\">\n",
       "      <th></th>\n",
       "      <th>SL</th>\n",
       "      <th>SW</th>\n",
       "      <th>PL</th>\n",
       "      <th>PW</th>\n",
       "      <th>Classification</th>\n",
       "    </tr>\n",
       "  </thead>\n",
       "  <tbody>\n",
       "    <tr>\n",
       "      <th>34</th>\n",
       "      <td>4.9</td>\n",
       "      <td>3.1</td>\n",
       "      <td>1.5</td>\n",
       "      <td>0.1</td>\n",
       "      <td>Iris-setosa</td>\n",
       "    </tr>\n",
       "    <tr>\n",
       "      <th>37</th>\n",
       "      <td>4.9</td>\n",
       "      <td>3.1</td>\n",
       "      <td>1.5</td>\n",
       "      <td>0.1</td>\n",
       "      <td>Iris-setosa</td>\n",
       "    </tr>\n",
       "    <tr>\n",
       "      <th>142</th>\n",
       "      <td>5.8</td>\n",
       "      <td>2.7</td>\n",
       "      <td>5.1</td>\n",
       "      <td>1.9</td>\n",
       "      <td>Iris-virginica</td>\n",
       "    </tr>\n",
       "  </tbody>\n",
       "</table>\n",
       "</div>"
      ],
      "text/plain": [
       "      SL   SW   PL   PW  Classification\n",
       "34   4.9  3.1  1.5  0.1     Iris-setosa\n",
       "37   4.9  3.1  1.5  0.1     Iris-setosa\n",
       "142  5.8  2.7  5.1  1.9  Iris-virginica"
      ]
     },
     "execution_count": 13,
     "metadata": {},
     "output_type": "execute_result"
    }
   ],
   "source": [
    "data_iris[data_iris.duplicated()]"
   ]
  },
  {
   "cell_type": "markdown",
   "id": "a8bdfdb1",
   "metadata": {},
   "source": [
    "There are duplicate value in the data set iris."
   ]
  },
  {
   "cell_type": "code",
   "execution_count": 14,
   "id": "d9a1f199",
   "metadata": {},
   "outputs": [
    {
     "data": {
      "text/plain": [
       "<AxesSubplot:title={'center':'Count of Classification'}, xlabel='Classification', ylabel='count'>"
      ]
     },
     "execution_count": 14,
     "metadata": {},
     "output_type": "execute_result"
    },
    {
     "data": {
      "image/png": "[encoded data removed]",
      "text/plain": [
       "<Figure size 432x288 with 1 Axes>"
      ]
     },
     "metadata": {},
     "output_type": "display_data"
    }
   ],
   "source": [
    "plt.title('Count of Classification')\n",
    "sns.countplot(x=data_iris['Classification'])"
   ]
  },
  {
   "cell_type": "markdown",
   "id": "65667a6e",
   "metadata": {},
   "source": [
    "# 2. Pre-processing Steps"
   ]
  },
  {
   "cell_type": "code",
   "execution_count": 15,
   "id": "bc126098",
   "metadata": {},
   "outputs": [
    {
     "data": {
      "text/plain": [
       "array([[<AxesSubplot:title={'center':'SL'}>,\n",
       "        <AxesSubplot:title={'center':'SW'}>],\n",
       "       [<AxesSubplot:title={'center':'PL'}>,\n",
       "        <AxesSubplot:title={'center':'PW'}>]], dtype=object)"
      ]
     },
     "execution_count": 15,
     "metadata": {},
     "output_type": "execute_result"
    },
    {
     "data": {
      "image/png": "[encoded data removed]",
      "text/plain": [
       "<Figure size 432x288 with 4 Axes>"
      ]
     },
     "metadata": {},
     "output_type": "display_data"
    }
   ],
   "source": [
    "data_iris.hist()"
   ]
  },
  {
   "cell_type": "code",
   "execution_count": 16,
   "id": "faa7c324",
   "metadata": {},
   "outputs": [
    {
     "name": "stdout",
     "output_type": "stream",
     "text": [
      "<class 'pandas.core.frame.DataFrame'>\n",
      "RangeIndex: 150 entries, 0 to 149\n",
      "Data columns (total 5 columns):\n",
      " #   Column          Non-Null Count  Dtype  \n",
      "---  ------          --------------  -----  \n",
      " 0   SL              143 non-null    float64\n",
      " 1   SW              144 non-null    float64\n",
      " 2   PL              144 non-null    float64\n",
      " 3   PW              150 non-null    float64\n",
      " 4   Classification  150 non-null    object \n",
      "dtypes: float64(4), object(1)\n",
      "memory usage: 6.0+ KB\n"
     ]
    }
   ],
   "source": [
    "data_iris.info()"
   ]
  },
  {
   "cell_type": "code",
   "execution_count": 17,
   "id": "8c5fc3a9",
   "metadata": {},
   "outputs": [
    {
     "data": {
      "text/plain": [
       "SL                7\n",
       "SW                6\n",
       "PL                6\n",
       "PW                0\n",
       "Classification    0\n",
       "dtype: int64"
      ]
     },
     "execution_count": 17,
     "metadata": {},
     "output_type": "execute_result"
    }
   ],
   "source": [
    "data_iris.isna().sum()"
   ]
  },
  {
   "cell_type": "code",
   "execution_count": 18,
   "id": "8a7e0156",
   "metadata": {},
   "outputs": [],
   "source": [
    "data_iris['SL'] = data_iris['SL'].fillna(data_iris['PL'].mean())\n",
    "data_iris['SW'] = data_iris['SW'].fillna(data_iris['PL'].mean())\n",
    "data_iris['PL'] = data_iris['PL'].fillna(data_iris['PL'].mean())"
   ]
  },
  {
   "cell_type": "code",
   "execution_count": 19,
   "id": "4da38a2b",
   "metadata": {},
   "outputs": [
    {
     "data": {
      "text/plain": [
       "SL                0\n",
       "SW                0\n",
       "PL                0\n",
       "PW                0\n",
       "Classification    0\n",
       "dtype: int64"
      ]
     },
     "execution_count": 19,
     "metadata": {},
     "output_type": "execute_result"
    }
   ],
   "source": [
    "data_iris.isna().sum()"
   ]
  },
  {
   "cell_type": "code",
   "execution_count": 20,
   "id": "a6aad28b",
   "metadata": {},
   "outputs": [
    {
     "data": {
      "image/png": "[encoded data removed]",
      "text/plain": [
       "<Figure size 1152x648 with 4 Axes>"
      ]
     },
     "metadata": {},
     "output_type": "display_data"
    }
   ],
   "source": [
    "fig, axes = plt.subplots(2, 2, figsize=(16,9))\n",
    "sns.boxplot( y=data_iris['PL'], x= 'Classification', data=data_iris, orient='v' , ax=axes[0, 0])\n",
    "sns.boxplot( y=data_iris['PW'], x= 'Classification', data=data_iris, orient='v' , ax=axes[0, 1])\n",
    "sns.boxplot( y=data_iris['SL'], x= 'Classification', data=data_iris, orient='v' , ax=axes[1, 0])\n",
    "sns.boxplot( y=data_iris['SW'], x= 'Classification', data=data_iris, orient='v' , ax=axes[1, 1])\n",
    "plt.show()"
   ]
  },
  {
   "cell_type": "code",
   "execution_count": 21,
   "id": "bee2a430",
   "metadata": {},
   "outputs": [
    {
     "name": "stdout",
     "output_type": "stream",
     "text": [
      "Int64Index([2, 21, 39], dtype='int64')\n",
      "Int64Index([51, 85], dtype='int64')\n",
      "Int64Index([106, 141], dtype='int64')\n",
      "Int64Index([], dtype='int64')\n",
      "Int64Index([72, 98], dtype='int64')\n",
      "Int64Index([], dtype='int64')\n",
      "Int64Index([22, 28, 42], dtype='int64')\n",
      "Int64Index([], dtype='int64')\n",
      "Int64Index([109, 147], dtype='int64')\n",
      "Int64Index([23, 43], dtype='int64')\n",
      "Int64Index([], dtype='int64')\n",
      "Int64Index([], dtype='int64')\n"
     ]
    }
   ],
   "source": [
    "for column in data_iris.columns[0:4]:\n",
    "    for classification in data_iris[\"Classification\"].unique():\n",
    "        class_type = data_iris[data_iris[\"Classification\"] == classification]\n",
    "        Selected_column = class_type[column]\n",
    "        q1 = Selected_column.quantile(0.25) # for select first quartile\n",
    "        q3 = Selected_column.quantile(0.75) # for select third quartile\n",
    "        iqr = q3 - q1 # this is interquartile range\n",
    "        upper_limit = q3 + 1.5 * iqr\n",
    "        lower_limit = q1 - 1.5 * iqr        \n",
    "        outlierss = Selected_column[(Selected_column > upper_limit) | (Selected_column < lower_limit)].index # picking outliers' indeces\n",
    "        print(outlierss)\n",
    "        data_iris.drop(index = outlierss, inplace=True) # dropping outliers"
   ]
  },
  {
   "cell_type": "code",
   "execution_count": 22,
   "id": "f07efa3d",
   "metadata": {},
   "outputs": [
    {
     "data": {
      "image/png": "[encoded data removed]",
      "text/plain": [
       "<Figure size 1152x648 with 4 Axes>"
      ]
     },
     "metadata": {},
     "output_type": "display_data"
    }
   ],
   "source": [
    "fig, axes = plt.subplots(2, 2, figsize=(16,9))\n",
    "sns.boxplot( y=data_iris['PL'], x= 'Classification', data=data_iris, orient='v' , ax=axes[0, 0])\n",
    "sns.boxplot( y=data_iris['PW'], x= 'Classification', data=data_iris, orient='v' , ax=axes[0, 1])\n",
    "sns.boxplot( y=data_iris['SL'], x= 'Classification', data=data_iris, orient='v' , ax=axes[1, 0])\n",
    "sns.boxplot( y=data_iris['SW'], x= 'Classification', data=data_iris, orient='v' , ax=axes[1, 1])\n",
    "plt.show()"
   ]
  },
  {
   "cell_type": "markdown",
   "id": "ba797609",
   "metadata": {},
   "source": [
    "The existing outliers are removed"
   ]
  },
  {
   "cell_type": "code",
   "execution_count": 23,
   "id": "14292a76",
   "metadata": {},
   "outputs": [
    {
     "data": {
      "text/plain": [
       "array(['Iris-setosa', 'Iris-versicolor', 'Iris-virginica'], dtype=object)"
      ]
     },
     "execution_count": 23,
     "metadata": {},
     "output_type": "execute_result"
    }
   ],
   "source": [
    "data_iris.Classification.unique()"
   ]
  },
  {
   "cell_type": "code",
   "execution_count": 24,
   "id": "9389c27b",
   "metadata": {},
   "outputs": [],
   "source": [
    "from sklearn.preprocessing import LabelEncoder\n",
    "label_en = LabelEncoder()\n",
    "data_iris['Classification'] = label_en.fit_transform(data_iris['Classification'])"
   ]
  },
  {
   "cell_type": "code",
   "execution_count": 25,
   "id": "d366b0af",
   "metadata": {},
   "outputs": [
    {
     "data": {
      "text/html": [
       "<div>\n",
       "<style scoped>\n",
       "    .dataframe tbody tr th:only-of-type {\n",
       "        vertical-align: middle;\n",
       "    }\n",
       "\n",
       "    .dataframe tbody tr th {\n",
       "        vertical-align: top;\n",
       "    }\n",
       "\n",
       "    .dataframe thead th {\n",
       "        text-align: right;\n",
       "    }\n",
       "</style>\n",
       "<table border=\"1\" class=\"dataframe\">\n",
       "  <thead>\n",
       "    <tr style=\"text-align: right;\">\n",
       "      <th></th>\n",
       "      <th>SL</th>\n",
       "      <th>SW</th>\n",
       "      <th>PL</th>\n",
       "      <th>PW</th>\n",
       "      <th>Classification</th>\n",
       "    </tr>\n",
       "  </thead>\n",
       "  <tbody>\n",
       "    <tr>\n",
       "      <th>0</th>\n",
       "      <td>5.1</td>\n",
       "      <td>3.5</td>\n",
       "      <td>1.4</td>\n",
       "      <td>0.2</td>\n",
       "      <td>0</td>\n",
       "    </tr>\n",
       "    <tr>\n",
       "      <th>1</th>\n",
       "      <td>4.9</td>\n",
       "      <td>3.0</td>\n",
       "      <td>1.4</td>\n",
       "      <td>0.2</td>\n",
       "      <td>0</td>\n",
       "    </tr>\n",
       "    <tr>\n",
       "      <th>3</th>\n",
       "      <td>4.6</td>\n",
       "      <td>3.1</td>\n",
       "      <td>1.5</td>\n",
       "      <td>0.2</td>\n",
       "      <td>0</td>\n",
       "    </tr>\n",
       "    <tr>\n",
       "      <th>4</th>\n",
       "      <td>5.0</td>\n",
       "      <td>3.6</td>\n",
       "      <td>1.4</td>\n",
       "      <td>0.2</td>\n",
       "      <td>0</td>\n",
       "    </tr>\n",
       "    <tr>\n",
       "      <th>5</th>\n",
       "      <td>5.4</td>\n",
       "      <td>3.9</td>\n",
       "      <td>1.7</td>\n",
       "      <td>0.4</td>\n",
       "      <td>0</td>\n",
       "    </tr>\n",
       "    <tr>\n",
       "      <th>...</th>\n",
       "      <td>...</td>\n",
       "      <td>...</td>\n",
       "      <td>...</td>\n",
       "      <td>...</td>\n",
       "      <td>...</td>\n",
       "    </tr>\n",
       "    <tr>\n",
       "      <th>144</th>\n",
       "      <td>6.7</td>\n",
       "      <td>3.3</td>\n",
       "      <td>5.7</td>\n",
       "      <td>2.5</td>\n",
       "      <td>2</td>\n",
       "    </tr>\n",
       "    <tr>\n",
       "      <th>145</th>\n",
       "      <td>6.7</td>\n",
       "      <td>3.0</td>\n",
       "      <td>5.2</td>\n",
       "      <td>2.3</td>\n",
       "      <td>2</td>\n",
       "    </tr>\n",
       "    <tr>\n",
       "      <th>146</th>\n",
       "      <td>6.3</td>\n",
       "      <td>2.5</td>\n",
       "      <td>5.0</td>\n",
       "      <td>1.9</td>\n",
       "      <td>2</td>\n",
       "    </tr>\n",
       "    <tr>\n",
       "      <th>148</th>\n",
       "      <td>6.2</td>\n",
       "      <td>3.4</td>\n",
       "      <td>5.4</td>\n",
       "      <td>2.3</td>\n",
       "      <td>2</td>\n",
       "    </tr>\n",
       "    <tr>\n",
       "      <th>149</th>\n",
       "      <td>5.9</td>\n",
       "      <td>3.0</td>\n",
       "      <td>5.1</td>\n",
       "      <td>1.8</td>\n",
       "      <td>2</td>\n",
       "    </tr>\n",
       "  </tbody>\n",
       "</table>\n",
       "<p>134 rows × 5 columns</p>\n",
       "</div>"
      ],
      "text/plain": [
       "      SL   SW   PL   PW  Classification\n",
       "0    5.1  3.5  1.4  0.2               0\n",
       "1    4.9  3.0  1.4  0.2               0\n",
       "3    4.6  3.1  1.5  0.2               0\n",
       "4    5.0  3.6  1.4  0.2               0\n",
       "5    5.4  3.9  1.7  0.4               0\n",
       "..   ...  ...  ...  ...             ...\n",
       "144  6.7  3.3  5.7  2.5               2\n",
       "145  6.7  3.0  5.2  2.3               2\n",
       "146  6.3  2.5  5.0  1.9               2\n",
       "148  6.2  3.4  5.4  2.3               2\n",
       "149  5.9  3.0  5.1  1.8               2\n",
       "\n",
       "[134 rows x 5 columns]"
      ]
     },
     "execution_count": 25,
     "metadata": {},
     "output_type": "execute_result"
    }
   ],
   "source": [
    "data_iris"
   ]
  },
  {
   "cell_type": "code",
   "execution_count": 26,
   "id": "f3020b12",
   "metadata": {},
   "outputs": [
    {
     "data": {
      "text/plain": [
       "<AxesSubplot:>"
      ]
     },
     "execution_count": 26,
     "metadata": {},
     "output_type": "execute_result"
    },
    {
     "data": {
      "image/png": "[encoded data removed]",
      "text/plain": [
       "<Figure size 720x360 with 2 Axes>"
      ]
     },
     "metadata": {},
     "output_type": "display_data"
    }
   ],
   "source": [
    "corrmatrix = data_iris.corr()\n",
    "plt.subplots(figsize=(10,5))\n",
    "sns.heatmap(corrmatrix,vmin=0.4,vmax=0.9,annot=True,linewidths=0.2,cmap='Reds')"
   ]
  },
  {
   "cell_type": "code",
   "execution_count": 27,
   "id": "38b464ea",
   "metadata": {},
   "outputs": [
    {
     "data": {
      "text/plain": [
       "Index(['SL', 'SW', 'PL', 'PW', 'Classification'], dtype='object')"
      ]
     },
     "execution_count": 27,
     "metadata": {},
     "output_type": "execute_result"
    }
   ],
   "source": [
    "data_iris.columns"
   ]
  },
  {
   "cell_type": "code",
   "execution_count": 28,
   "id": "b0dd7b60",
   "metadata": {},
   "outputs": [],
   "source": [
    "y = data_iris['Classification']\n",
    "x = data_iris.drop('Classification',axis=1)"
   ]
  },
  {
   "cell_type": "markdown",
   "id": "81eff90c",
   "metadata": {},
   "source": [
    "# Feature Engineering"
   ]
  },
  {
   "cell_type": "code",
   "execution_count": 29,
   "id": "090e7403",
   "metadata": {},
   "outputs": [
    {
     "data": {
      "text/plain": [
       "Index(['SL', 'SW', 'PL', 'PW', 'mean', 'sum', 'skew', 'kurt'], dtype='object')"
      ]
     },
     "execution_count": 29,
     "metadata": {},
     "output_type": "execute_result"
    }
   ],
   "source": [
    "x['mean'] = x[['SW', 'SL', 'PW', 'PL']].mean(axis = 1)\n",
    "x['sum'] = x[['SW', 'SL', 'PW', 'PL']].sum(axis = 1)\n",
    "x['skew'] = x[['SW', 'SL', 'PW', 'PL']].skew(axis = 1)\n",
    "x['kurt'] = x[['SW', 'SL', 'PW', 'PL']].kurt(axis = 1)\n",
    "x.columns"
   ]
  },
  {
   "cell_type": "code",
   "execution_count": 30,
   "id": "b2febd09",
   "metadata": {},
   "outputs": [],
   "source": [
    "from sklearn.model_selection import train_test_split\n",
    "x_train, x_test, y_train, y_test = train_test_split(x, y, random_state = 2, test_size = 0.3)"
   ]
  },
  {
   "cell_type": "code",
   "execution_count": 31,
   "id": "ed411136",
   "metadata": {},
   "outputs": [],
   "source": [
    "from sklearn.preprocessing import StandardScaler\n",
    "scaler = StandardScaler()\n",
    "x_train = scaler.fit_transform(x_train)\n",
    "x_test = scaler.fit_transform(x_test)"
   ]
  },
  {
   "cell_type": "markdown",
   "id": "587616d1",
   "metadata": {},
   "source": [
    "# 3. Find out which classification model gives the best result to predict iris species.(also do random forest algorithm).¶"
   ]
  },
  {
   "cell_type": "markdown",
   "id": "b9329b78",
   "metadata": {},
   "source": [
    " Logistic Regression Algorithm"
   ]
  },
  {
   "cell_type": "code",
   "execution_count": 32,
   "id": "c23b5039",
   "metadata": {},
   "outputs": [],
   "source": [
    "from sklearn.linear_model import LogisticRegression\n",
    "logit_model = LogisticRegression()\n",
    "logit_model.fit(x_train, y_train)\n",
    "y_pred = logit_model.predict(x_test)"
   ]
  },
  {
   "cell_type": "code",
   "execution_count": 33,
   "id": "7b18a22d",
   "metadata": {},
   "outputs": [],
   "source": [
    "from sklearn.metrics import confusion_matrix, accuracy_score, precision_score, recall_score, f1_score"
   ]
  },
  {
   "cell_type": "code",
   "execution_count": 34,
   "id": "ccf22a8e",
   "metadata": {},
   "outputs": [
    {
     "name": "stdout",
     "output_type": "stream",
     "text": [
      "Accuracy is:  1.0\n",
      "Precision is:  1.0\n",
      "Recall is:  1.0\n",
      "F1 score is:  1.0\n"
     ]
    }
   ],
   "source": [
    "print(\"Accuracy is: \", accuracy_score(y_test,y_pred))\n",
    "print(\"Precision is: \", precision_score(y_test,y_pred, average = 'micro'))\n",
    "print(\"Recall is: \", recall_score(y_test,y_pred,  average = 'micro'))\n",
    "print(\"F1 score is: \", f1_score(y_test,y_pred,  average = 'micro'))"
   ]
  },
  {
   "cell_type": "code",
   "execution_count": 35,
   "id": "18aaf613",
   "metadata": {},
   "outputs": [
    {
     "data": {
      "text/plain": [
       "array([[16,  0,  0],\n",
       "       [ 0, 13,  0],\n",
       "       [ 0,  0, 12]], dtype=int64)"
      ]
     },
     "execution_count": 35,
     "metadata": {},
     "output_type": "execute_result"
    }
   ],
   "source": [
    "confusion_matrix(y_test,y_pred)"
   ]
  },
  {
   "cell_type": "markdown",
   "id": "50888030",
   "metadata": {},
   "source": [
    "KNN Algorithm"
   ]
  },
  {
   "cell_type": "code",
   "execution_count": 36,
   "id": "83ba075c",
   "metadata": {},
   "outputs": [],
   "source": [
    "from sklearn.neighbors import KNeighborsClassifier\n",
    "acc_values = []\n",
    "neighbors = np.arange(3,15)\n",
    "for k in neighbors:\n",
    "    classifier = KNeighborsClassifier(n_neighbors = k, metric='minkowski')\n",
    "    classifier.fit(x_train, y_train)\n",
    "    y_pred =  classifier.predict(x_test)\n",
    "    acc = accuracy_score(y_test, y_pred)\n",
    "    acc_values.append(acc)"
   ]
  },
  {
   "cell_type": "code",
   "execution_count": 37,
   "id": "da68e3d1",
   "metadata": {},
   "outputs": [
    {
     "data": {
      "text/plain": [
       "[0.9512195121951219,\n",
       " 0.975609756097561,\n",
       " 0.926829268292683,\n",
       " 0.975609756097561,\n",
       " 0.975609756097561,\n",
       " 0.975609756097561,\n",
       " 0.975609756097561,\n",
       " 0.975609756097561,\n",
       " 0.975609756097561,\n",
       " 0.975609756097561,\n",
       " 0.975609756097561,\n",
       " 0.975609756097561]"
      ]
     },
     "execution_count": 37,
     "metadata": {},
     "output_type": "execute_result"
    }
   ],
   "source": [
    "acc_values"
   ]
  },
  {
   "cell_type": "code",
   "execution_count": 38,
   "id": "b52bc958",
   "metadata": {},
   "outputs": [
    {
     "data": {
      "text/plain": [
       "Text(0, 0.5, 'Accuracy')"
      ]
     },
     "execution_count": 38,
     "metadata": {},
     "output_type": "execute_result"
    },
    {
     "data": {
      "image/png": "[encoded data removed]",
      "text/plain": [
       "<Figure size 432x288 with 1 Axes>"
      ]
     },
     "metadata": {},
     "output_type": "display_data"
    }
   ],
   "source": [
    "plt.plot(neighbors, acc_values, 'o-')\n",
    "plt.xlabel('K values')\n",
    "plt.ylabel('Accuracy')"
   ]
  },
  {
   "cell_type": "code",
   "execution_count": 39,
   "id": "ddbe45bf",
   "metadata": {},
   "outputs": [],
   "source": [
    "classifier = KNeighborsClassifier(n_neighbors = 5, metric='minkowski')\n",
    "classifier.fit(x_train, y_train)\n",
    "y_pred =  classifier.predict(x_test)   "
   ]
  },
  {
   "cell_type": "code",
   "execution_count": 40,
   "id": "6cd4bbae",
   "metadata": {},
   "outputs": [
    {
     "name": "stdout",
     "output_type": "stream",
     "text": [
      "Accuracy is:  0.926829268292683\n",
      "Precision is:  0.926829268292683\n",
      "Recall is:  0.926829268292683\n",
      "F1 score is:  0.926829268292683\n"
     ]
    }
   ],
   "source": [
    "print(\"Accuracy is: \", accuracy_score(y_test,y_pred))\n",
    "print(\"Precision is: \", precision_score(y_test,y_pred, average = 'micro'))\n",
    "print(\"Recall is: \", recall_score(y_test,y_pred,  average = 'micro'))\n",
    "print(\"F1 score is: \", f1_score(y_test,y_pred,  average = 'micro'))"
   ]
  },
  {
   "cell_type": "code",
   "execution_count": 41,
   "id": "e5d41a93",
   "metadata": {},
   "outputs": [
    {
     "data": {
      "text/plain": [
       "array([[16,  0,  0],\n",
       "       [ 0, 10,  3],\n",
       "       [ 0,  0, 12]], dtype=int64)"
      ]
     },
     "execution_count": 41,
     "metadata": {},
     "output_type": "execute_result"
    }
   ],
   "source": [
    "confusion_matrix(y_test,y_pred)"
   ]
  },
  {
   "cell_type": "markdown",
   "id": "27bb8b2f",
   "metadata": {},
   "source": [
    "Decision Tree Algorithm"
   ]
  },
  {
   "cell_type": "code",
   "execution_count": 42,
   "id": "11bf08d6",
   "metadata": {},
   "outputs": [],
   "source": [
    "from sklearn.tree import DecisionTreeClassifier\n",
    "dt_model =DecisionTreeClassifier()\n",
    "dt_model.fit(x_train,y_train)\n",
    "y_pred=dt_model.predict(x_test)"
   ]
  },
  {
   "cell_type": "code",
   "execution_count": 43,
   "id": "dc335055",
   "metadata": {},
   "outputs": [
    {
     "name": "stdout",
     "output_type": "stream",
     "text": [
      "Accuracy is:  0.9512195121951219\n",
      "Precision is:  0.9512195121951219\n",
      "Recall is:  0.9512195121951219\n",
      "F1 score is:  0.9512195121951219\n"
     ]
    }
   ],
   "source": [
    "print(\"Accuracy is: \", accuracy_score(y_test,y_pred))\n",
    "print(\"Precision is: \", precision_score(y_test,y_pred, average = 'micro'))\n",
    "print(\"Recall is: \", recall_score(y_test,y_pred,  average = 'micro'))\n",
    "print(\"F1 score is: \", f1_score(y_test,y_pred,  average = 'micro'))"
   ]
  },
  {
   "cell_type": "code",
   "execution_count": 44,
   "id": "22172b7d",
   "metadata": {},
   "outputs": [
    {
     "data": {
      "text/plain": [
       "array([[16,  0,  0],\n",
       "       [ 0, 12,  1],\n",
       "       [ 0,  1, 11]], dtype=int64)"
      ]
     },
     "execution_count": 44,
     "metadata": {},
     "output_type": "execute_result"
    }
   ],
   "source": [
    "confusion_matrix(y_test,y_pred)"
   ]
  },
  {
   "cell_type": "markdown",
   "id": "c1f90f54",
   "metadata": {},
   "source": [
    "Support Vector Machine Linear Kernel"
   ]
  },
  {
   "cell_type": "code",
   "execution_count": 45,
   "id": "5a14609e",
   "metadata": {},
   "outputs": [],
   "source": [
    "from sklearn.svm import SVC\n",
    "svm_linear = SVC(kernel = 'linear')\n",
    "svm_linear.fit(x_train, y_train)\n",
    "y_pred = svm_linear.predict(x_test)"
   ]
  },
  {
   "cell_type": "code",
   "execution_count": 46,
   "id": "64790cff",
   "metadata": {},
   "outputs": [
    {
     "name": "stdout",
     "output_type": "stream",
     "text": [
      "Accuracy is:  0.9512195121951219\n",
      "Precision is:  0.9512195121951219\n",
      "Recall is:  0.9512195121951219\n",
      "F1 score is:  0.9512195121951219\n"
     ]
    }
   ],
   "source": [
    "print(\"Accuracy is: \", accuracy_score(y_test,y_pred))\n",
    "print(\"Precision is: \", precision_score(y_test,y_pred, average = 'micro'))\n",
    "print(\"Recall is: \", recall_score(y_test,y_pred,  average = 'micro'))\n",
    "print(\"F1 score is: \", f1_score(y_test,y_pred,  average = 'micro'))"
   ]
  },
  {
   "cell_type": "code",
   "execution_count": 47,
   "id": "7406bbd9",
   "metadata": {},
   "outputs": [
    {
     "data": {
      "text/plain": [
       "array([[16,  0,  0],\n",
       "       [ 0, 11,  2],\n",
       "       [ 0,  0, 12]], dtype=int64)"
      ]
     },
     "execution_count": 47,
     "metadata": {},
     "output_type": "execute_result"
    }
   ],
   "source": [
    "confusion_matrix(y_test,y_pred)"
   ]
  },
  {
   "cell_type": "markdown",
   "id": "fa444900",
   "metadata": {},
   "source": [
    "Support Vector Machine Polynomial Kernal"
   ]
  },
  {
   "cell_type": "code",
   "execution_count": 48,
   "id": "99b5c3d9",
   "metadata": {},
   "outputs": [],
   "source": [
    "svm_poly = SVC(kernel = 'poly', degree = 3)\n",
    "svm_poly.fit(x_train,y_train)\n",
    "y_pred = svm_poly.predict(x_test)"
   ]
  },
  {
   "cell_type": "code",
   "execution_count": 49,
   "id": "d2afad3e",
   "metadata": {},
   "outputs": [
    {
     "name": "stdout",
     "output_type": "stream",
     "text": [
      "Accuracy is:  0.9512195121951219\n",
      "Precision is:  0.9512195121951219\n",
      "Recall is:  0.9512195121951219\n",
      "F1 score is:  0.9512195121951219\n"
     ]
    }
   ],
   "source": [
    "print(\"Accuracy is: \", accuracy_score(y_test,y_pred))\n",
    "print(\"Precision is: \", precision_score(y_test,y_pred, average = 'micro'))\n",
    "print(\"Recall is: \", recall_score(y_test,y_pred,  average = 'micro'))\n",
    "print(\"F1 score is: \", f1_score(y_test,y_pred,  average = 'micro'))"
   ]
  },
  {
   "cell_type": "code",
   "execution_count": 50,
   "id": "99d04f79",
   "metadata": {},
   "outputs": [
    {
     "data": {
      "text/plain": [
       "array([[15,  1,  0],\n",
       "       [ 0, 13,  0],\n",
       "       [ 0,  1, 11]], dtype=int64)"
      ]
     },
     "execution_count": 50,
     "metadata": {},
     "output_type": "execute_result"
    }
   ],
   "source": [
    "confusion_matrix(y_test,y_pred)"
   ]
  },
  {
   "cell_type": "markdown",
   "id": "69d31bc0",
   "metadata": {},
   "source": [
    "Support Vector Machine Radial Basis Function Kernal"
   ]
  },
  {
   "cell_type": "code",
   "execution_count": 51,
   "id": "41bdd975",
   "metadata": {},
   "outputs": [],
   "source": [
    "svm_radial = SVC(kernel = 'rbf')\n",
    "svm_radial.fit(x_train,y_train)\n",
    "y_pred = svm_radial.predict(x_test)"
   ]
  },
  {
   "cell_type": "code",
   "execution_count": 52,
   "id": "68ebcdd9",
   "metadata": {},
   "outputs": [
    {
     "name": "stdout",
     "output_type": "stream",
     "text": [
      "Accuracy is:  0.975609756097561\n",
      "Precision is:  0.975609756097561\n",
      "Recall is:  0.975609756097561\n",
      "F1 score is:  0.975609756097561\n"
     ]
    }
   ],
   "source": [
    "print(\"Accuracy is: \", accuracy_score(y_test,y_pred))\n",
    "print(\"Precision is: \", precision_score(y_test,y_pred, average = 'micro'))\n",
    "print(\"Recall is: \", recall_score(y_test,y_pred,  average = 'micro'))\n",
    "print(\"F1 score is: \", f1_score(y_test,y_pred,  average = 'micro'))"
   ]
  },
  {
   "cell_type": "code",
   "execution_count": 53,
   "id": "b4b29719",
   "metadata": {},
   "outputs": [
    {
     "data": {
      "text/plain": [
       "array([[16,  0,  0],\n",
       "       [ 0, 12,  1],\n",
       "       [ 0,  0, 12]], dtype=int64)"
      ]
     },
     "execution_count": 53,
     "metadata": {},
     "output_type": "execute_result"
    }
   ],
   "source": [
    "confusion_matrix(y_test,y_pred)"
   ]
  },
  {
   "cell_type": "markdown",
   "id": "f68987bc",
   "metadata": {},
   "source": [
    "Random forest"
   ]
  },
  {
   "cell_type": "code",
   "execution_count": 54,
   "id": "afdd7ab9",
   "metadata": {},
   "outputs": [],
   "source": [
    "from sklearn.ensemble import RandomForestClassifier\n",
    "rf = RandomForestClassifier()\n",
    "rf.fit(x_train,y_train)\n",
    "y_pred = rf.predict(x_test)"
   ]
  },
  {
   "cell_type": "code",
   "execution_count": 55,
   "id": "688dfa42",
   "metadata": {},
   "outputs": [
    {
     "name": "stdout",
     "output_type": "stream",
     "text": [
      "Accuracy is:  0.975609756097561\n",
      "Precision is:  0.975609756097561\n",
      "Recall is:  0.975609756097561\n",
      "F1 score is:  0.975609756097561\n"
     ]
    }
   ],
   "source": [
    "print(\"Accuracy is: \", accuracy_score(y_test,y_pred))\n",
    "print(\"Precision is: \", precision_score(y_test,y_pred,  average = 'micro'))\n",
    "print(\"Recall is: \", recall_score(y_test,y_pred,  average = 'micro'))\n",
    "print(\"F1 score is: \", f1_score(y_test,y_pred, average = 'micro'))"
   ]
  },
  {
   "cell_type": "code",
   "execution_count": 56,
   "id": "c97af510",
   "metadata": {},
   "outputs": [
    {
     "data": {
      "text/plain": [
       "array([[16,  0,  0],\n",
       "       [ 0, 12,  1],\n",
       "       [ 0,  0, 12]], dtype=int64)"
      ]
     },
     "execution_count": 56,
     "metadata": {},
     "output_type": "execute_result"
    }
   ],
   "source": [
    "confusion_matrix (y_test, y_pred)"
   ]
  },
  {
   "cell_type": "code",
   "execution_count": 57,
   "id": "19cd2668",
   "metadata": {},
   "outputs": [
    {
     "data": {
      "text/plain": [
       "PL      25.913749\n",
       "PW      20.660519\n",
       "kurt    17.521849\n",
       "mean    13.863678\n",
       "sum     13.143786\n",
       "SL       4.865613\n",
       "skew     2.258556\n",
       "SW       1.772251\n",
       "dtype: float64"
      ]
     },
     "execution_count": 57,
     "metadata": {},
     "output_type": "execute_result"
    }
   ],
   "source": [
    "pd.Series(rf.feature_importances_, index = x.columns).sort_values(ascending=False)*100"
   ]
  },
  {
   "cell_type": "markdown",
   "id": "ae1df6b4",
   "metadata": {},
   "source": [
    "Here we can see that logistic regression we got f value 1.0 so we can say that is overfitting and when we look at the KNN the f value is 0.92 here it is underfitting by comparing others and also the decision tree f value is 0.95 it is also small comparing others here we get the best one is  SVM rbf and random forest the f value is 0.97."
   ]
  },
  {
   "cell_type": "code",
   "execution_count": null,
   "id": "eaaebef0",
   "metadata": {},
   "outputs": [],
   "source": []
  }
 ],
 "metadata": {
  "kernelspec": {
   "display_name": "Python 3",
   "language": "python",
   "name": "python3"
  },
  "language_info": {
   "codemirror_mode": {
    "name": "ipython",
    "version": 3
   },
   "file_extension": ".py",
   "mimetype": "text/x-python",
   "name": "python",
   "nbconvert_exporter": "python",
   "pygments_lexer": "ipython3",
   "version": "3.8.8"
  }
 },
 "nbformat": 4,
 "nbformat_minor": 5
}
